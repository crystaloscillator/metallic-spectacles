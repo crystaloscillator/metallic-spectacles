{
 "cells": [
  {
   "cell_type": "code",
   "execution_count": 62,
   "metadata": {
    "collapsed": false
   },
   "outputs": [],
   "source": [
    "from whatever import *\n",
    "from toolz.curried import*\n",
    "from sklearn import *\n",
    "from sklearn import base\n",
    "from dropin import SimplePipeline, CorrelationModel\n",
    "from sklearn.preprocessing import FunctionTransformer\n",
    "import numpy as np\n",
    "from IPython import get_ipython"
   ]
  },
  {
   "cell_type": "code",
   "execution_count": 63,
   "metadata": {
    "collapsed": false
   },
   "outputs": [],
   "source": [
    "im = np.random.randn(5,10,10) > 1"
   ]
  },
  {
   "cell_type": "code",
   "execution_count": 64,
   "metadata": {
    "collapsed": false
   },
   "outputs": [],
   "source": [
    "transformed = SimplePipeline([[CorrelationModel],[\n",
    "            FunctionTransformer(np.nan_to_num, validate=False)\n",
    "        ]], n_jobs=1).fit_transform(im)\n",
    "\n",
    "assert np.isclose(np.apply_over_axes(np.mean, im, axes=[1,2]).ravel(), transformed[:,0,0]).all()"
   ]
  },
  {
   "cell_type": "code",
   "execution_count": 57,
   "metadata": {
    "collapsed": false
   },
   "outputs": [],
   "source": [
    "pipeline = SimplePipeline([\n",
    "        [decomposition.IncrementalPCA(), manifold.Isomap()],\n",
    "    ])\n",
    "assert isinstance(pipeline.steps[-1][1], base.TransformerMixin)"
   ]
  },
  {
   "cell_type": "code",
   "execution_count": 58,
   "metadata": {
    "collapsed": false
   },
   "outputs": [],
   "source": [
    "pipeline = SimplePipeline([\n",
    "        [decomposition.IncrementalPCA(), manifold.Isomap()],\n",
    "        [tree.DecisionTreeClassifier(), tree.DecisionTreeRegressor()],\n",
    "    ])\n",
    "assert isinstance(pipeline.steps[-1][1], base.ClassifierMixin)"
   ]
  },
  {
   "cell_type": "code",
   "execution_count": 59,
   "metadata": {
    "collapsed": false
   },
   "outputs": [],
   "source": [
    "pipeline = SimplePipeline([\n",
    "        [decomposition.IncrementalPCA(), manifold.Isomap()],\n",
    "        [tree.DecisionTreeClassifier(), tree.DecisionTreeRegressor()],\n",
    "    ])\n",
    "assert pipeline.set_params(n_jobs=2).n_jobs==2"
   ]
  },
  {
   "cell_type": "code",
   "execution_count": 60,
   "metadata": {
    "collapsed": false
   },
   "outputs": [
    {
     "name": "stdout",
     "output_type": "stream",
     "text": [
      "CPU times: user 351 ms, sys: 192 ms, total: 543 ms\n",
      "Wall time: 1.98 s\n"
     ]
    }
   ],
   "source": [
    "%%time\n",
    "pipeline.set_params(n_jobs=1).fit_transform(\n",
    "    *_X(datasets.load_digits()).get(['data', 'target']).value()\n",
    ")\n",
    "pass"
   ]
  },
  {
   "cell_type": "code",
   "execution_count": 61,
   "metadata": {
    "collapsed": false
   },
   "outputs": [
    {
     "name": "stdout",
     "output_type": "stream",
     "text": [
      "CPU times: user 429 ms, sys: 244 ms, total: 673 ms\n",
      "Wall time: 2.23 s\n"
     ]
    }
   ],
   "source": [
    "%%time\n",
    "pipeline.set_params(n_jobs=2).fit_transform(\n",
    "    *_X(datasets.load_digits()).get(['data', 'target']).value()\n",
    ")\n",
    "pass"
   ]
  },
  {
   "cell_type": "code",
   "execution_count": null,
   "metadata": {
    "collapsed": true
   },
   "outputs": [],
   "source": []
  }
 ],
 "metadata": {
  "anaconda-cloud": {},
  "kernelspec": {
   "display_name": "Python [Root]",
   "language": "python",
   "name": "Python [Root]"
  },
  "language_info": {
   "codemirror_mode": {
    "name": "ipython",
    "version": 3
   },
   "file_extension": ".py",
   "mimetype": "text/x-python",
   "name": "python",
   "nbconvert_exporter": "python",
   "pygments_lexer": "ipython3",
   "version": "3.5.2"
  }
 },
 "nbformat": 4,
 "nbformat_minor": 0
}

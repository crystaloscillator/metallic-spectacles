{
 "cells": [
  {
   "cell_type": "code",
   "execution_count": 53,
   "metadata": {
    "collapsed": false
   },
   "outputs": [],
   "source": [
    "from whatever import *\n",
    "from toolz.curried import*\n",
    "from sklearn import *\n",
    "from sklearn import base\n",
    "from dropin import SimplePipeline, normalized_correlation\n",
    "from sklearn.preprocessing import FunctionTransformer\n",
    "from pandas import np"
   ]
  },
  {
   "cell_type": "code",
   "execution_count": 21,
   "metadata": {
    "collapsed": false
   },
   "outputs": [],
   "source": [
    "im = np.random.randn(5,10,10) > 1"
   ]
  },
  {
   "cell_type": "code",
   "execution_count": 51,
   "metadata": {
    "collapsed": false
   },
   "outputs": [],
   "source": [
    "transformed = SimplePipeline([[normalized_correlation],[\n",
    "            FunctionTransformer(np.nan_to_num, validate=False)\n",
    "        ]], n_jobs=1).fit_transform(im)\n",
    "\n",
    "assert np.isclose(np.apply_over_axes(np.mean, im, axes=[1,2]).ravel(), transformed[:,0,0]).all()"
   ]
  },
  {
   "cell_type": "code",
   "execution_count": 185,
   "metadata": {
    "collapsed": false
   },
   "outputs": [],
   "source": [
    "pipeline = SimplePipeline([\n",
    "        [decomposition.IncrementalPCA(), manifold.Isomap()],\n",
    "    ])\n",
    "assert isinstance(pipeline.steps[-1][1], base.TransformerMixin)"
   ]
  },
  {
   "cell_type": "code",
   "execution_count": 186,
   "metadata": {
    "collapsed": false
   },
   "outputs": [],
   "source": [
    "pipeline = SimplePipeline([\n",
    "        [decomposition.IncrementalPCA(), manifold.Isomap()],\n",
    "        [tree.DecisionTreeClassifier(), tree.DecisionTreeRegressor()],\n",
    "    ])\n",
    "assert isinstance(pipeline.steps[-1][1], base.ClassifierMixin)"
   ]
  },
  {
   "cell_type": "code",
   "execution_count": 187,
   "metadata": {
    "collapsed": false
   },
   "outputs": [],
   "source": [
    "pipeline = SimplePipeline([\n",
    "        [decomposition.IncrementalPCA(), manifold.Isomap()],\n",
    "        [tree.DecisionTreeClassifier(), tree.DecisionTreeRegressor()],\n",
    "    ])\n",
    "assert pipeline.set_params(n_jobs=2).n_jobs==2"
   ]
  },
  {
   "cell_type": "code",
   "execution_count": 188,
   "metadata": {
    "collapsed": false
   },
   "outputs": [
    {
     "name": "stdout",
     "output_type": "stream",
     "text": [
      "CPU times: user 360 ms, sys: 178 ms, total: 538 ms\n",
      "Wall time: 2.01 s\n"
     ]
    }
   ],
   "source": [
    "%%time\n",
    "pipeline.set_params(n_jobs=1).fit_transform(\n",
    "    *_X(datasets.load_digits()).get(['data', 'target']).value()\n",
    ")\n",
    "pass"
   ]
  },
  {
   "cell_type": "code",
   "execution_count": 189,
   "metadata": {
    "collapsed": false
   },
   "outputs": [
    {
     "name": "stdout",
     "output_type": "stream",
     "text": [
      "CPU times: user 442 ms, sys: 278 ms, total: 720 ms\n",
      "Wall time: 2.27 s\n"
     ]
    }
   ],
   "source": [
    "%%time\n",
    "pipeline.set_params(n_jobs=2).fit_transform(\n",
    "    *_X(datasets.load_digits()).get(['data', 'target']).value()\n",
    ")\n",
    "pass"
   ]
  }
 ],
 "metadata": {
  "anaconda-cloud": {},
  "kernelspec": {
   "display_name": "Python [Root]",
   "language": "python",
   "name": "Python [Root]"
  },
  "language_info": {
   "codemirror_mode": {
    "name": "ipython",
    "version": 3
   },
   "file_extension": ".py",
   "mimetype": "text/x-python",
   "name": "python",
   "nbconvert_exporter": "python",
   "pygments_lexer": "ipython3",
   "version": "3.5.2"
  }
 },
 "nbformat": 4,
 "nbformat_minor": 0
}

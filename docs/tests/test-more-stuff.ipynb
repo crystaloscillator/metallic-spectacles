{
 "cells": [
  {
   "cell_type": "code",
   "execution_count": 1,
   "metadata": {
    "collapsed": false
   },
   "outputs": [],
   "source": [
    "from whatever import *\n",
    "from dropin import SimplePipeline, normalized_correlation\n",
    "from dropin.correlation import auto_correlation, cross_correlation\n",
    "from pandas import np"
   ]
  },
  {
   "cell_type": "code",
   "execution_count": 2,
   "metadata": {
    "collapsed": false
   },
   "outputs": [],
   "source": [
    "im = np.random.randn(5,10,10) > 1"
   ]
  },
  {
   "cell_type": "code",
   "execution_count": 3,
   "metadata": {
    "collapsed": false
   },
   "outputs": [],
   "source": [
    "assert np.isclose(auto_correlation(im), cross_correlation(im, im)).all()"
   ]
  },
  {
   "cell_type": "code",
   "execution_count": 4,
   "metadata": {
    "collapsed": true
   },
   "outputs": [],
   "source": [
    "A = np.random.randn(30,10,10) > 1\n",
    "B = auto_correlation(A, axes=[1, 2])\n",
    "assert np.isclose(\n",
    "    np.apply_over_axes(np.sum, A, axes=[1,2]).ravel(),\n",
    "    np.apply_over_axes(np.max, B, axes=[1,2]).ravel(),\n",
    ").all()"
   ]
  },
  {
   "cell_type": "code",
   "execution_count": 5,
   "metadata": {
    "collapsed": false
   },
   "outputs": [
    {
     "name": "stdout",
     "output_type": "stream",
     "text": [
      "CPU times: user 24.7 ms, sys: 2.49 ms, total: 27.2 ms\n",
      "Wall time: 26.2 ms\n"
     ]
    }
   ],
   "source": [
    "%%time\n",
    "assert _X((np.random.randn(20, 100, 100)>1).astype(int)).map(\n",
    "    auto_correlation).list().value()\n",
    "pass"
   ]
  },
  {
   "cell_type": "code",
   "execution_count": 6,
   "metadata": {
    "collapsed": true
   },
   "outputs": [],
   "source": [
    "correlation = callables.Dispatch({\n",
    "        (np.ndarray,): auto_correlation,\n",
    "        (np.ndarray, np.ndarray): cross_correlation,\n",
    "    })"
   ]
  },
  {
   "cell_type": "code",
   "execution_count": 7,
   "metadata": {
    "collapsed": false
   },
   "outputs": [],
   "source": [
    "assert np.isclose(correlation(im), correlation(im, im)).all()"
   ]
  },
  {
   "cell_type": "code",
   "execution_count": 11,
   "metadata": {
    "collapsed": false
   },
   "outputs": [],
   "source": [
    "assert np.isclose(correlation(im, s=(31,31)), correlation(im, im, s=(31,31))).all()\n",
    "assert correlation(im, s=(31,31)).shape==correlation(im, im, s=(31,31)).shape"
   ]
  }
 ],
 "metadata": {
  "anaconda-cloud": {},
  "kernelspec": {
   "display_name": "Python [Root]",
   "language": "python",
   "name": "Python [Root]"
  },
  "language_info": {
   "codemirror_mode": {
    "name": "ipython",
    "version": 3
   },
   "file_extension": ".py",
   "mimetype": "text/x-python",
   "name": "python",
   "nbconvert_exporter": "python",
   "pygments_lexer": "ipython3",
   "version": "3.5.2"
  }
 },
 "nbformat": 4,
 "nbformat_minor": 0
}

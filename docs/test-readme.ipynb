{
 "cells": [
  {
   "cell_type": "markdown",
   "metadata": {},
   "source": [
    "# `magical-magic`\n",
    "\n",
    "Dead simple reusable `IPython` magics.\n",
    "\n",
    "## Installation\n",
    "\n",
    "`pip install magical-magic`"
   ]
  },
  {
   "cell_type": "markdown",
   "metadata": {},
   "source": [
    "# Basic Usage"
   ]
  },
  {
   "cell_type": "code",
   "execution_count": 11,
   "metadata": {
    "collapsed": false
   },
   "outputs": [
    {
     "data": {
      "application/javascript": [
       "require([\n",
       "                    \"notebook/js/codecell\",\n",
       "                    \"codemirror/mode/jinja2/jinja2\"\n",
       "                ],\n",
       "                function(cc){\n",
       "                    cc.CodeCell.options_default.highlight_modes.magic_jinja2 = {\n",
       "                        reg: [\"^%%jinja2\"]\n",
       "                    };\n",
       "                }\n",
       "            );\n",
       "            "
      ],
      "text/plain": [
       "<IPython.core.display.Javascript object>"
      ]
     },
     "metadata": {},
     "output_type": "display_data"
    },
    {
     "data": {
      "application/javascript": [
       "require([\n",
       "                    \"notebook/js/codecell\",\n",
       "                    \"codemirror/mode/markdown/markdown\"\n",
       "                ],\n",
       "                function(cc){\n",
       "                    cc.CodeCell.options_default.highlight_modes.magic_mistune = {\n",
       "                        reg: [\"^%%mistune\"]\n",
       "                    };\n",
       "                }\n",
       "            );\n",
       "            "
      ],
      "text/plain": [
       "<IPython.core.display.Javascript object>"
      ]
     },
     "metadata": {},
     "output_type": "display_data"
    },
    {
     "data": {
      "application/javascript": [
       "require([\n",
       "                    \"notebook/js/codecell\",\n",
       "                    \"codemirror/mode/yaml/yaml\"\n",
       "                ],\n",
       "                function(cc){\n",
       "                    cc.CodeCell.options_default.highlight_modes.magic_yaml = {\n",
       "                        reg: [\"^%%yaml\"]\n",
       "                    };\n",
       "                }\n",
       "            );\n",
       "            "
      ],
      "text/plain": [
       "<IPython.core.display.Javascript object>"
      ]
     },
     "metadata": {},
     "output_type": "display_data"
    }
   ],
   "source": [
    "import magical\n",
    "env = magical.register_jinja2_magic() # returns a jinja environment\n",
    "magical.register_mistune_magic(escape=False)\n",
    "magical.register_yaml_magic()"
   ]
  },
  {
   "cell_type": "code",
   "execution_count": 12,
   "metadata": {
    "collapsed": true
   },
   "outputs": [],
   "source": [
    "data = {'🐮': 'moo', '🐑': 'bah', '🔥': 'burn'}"
   ]
  },
  {
   "cell_type": "code",
   "execution_count": 13,
   "metadata": {
    "collapsed": false
   },
   "outputs": [
    {
     "data": {
      "text/markdown": [
       "# Jinja Cell Magics\n",
       "\n",
       "`%%jinja2` inserts data from the notebook into the template.  \n",
       "\n",
       "## An example of a list\n",
       "\n",
       "* 🐮 - __moo__\n",
       "* 🔥 - __burn__\n",
       "* 🐑 - __bah__\n"
      ],
      "text/plain": [
       "<IPython.core.display.Markdown object>"
      ]
     },
     "metadata": {},
     "output_type": "display_data"
    }
   ],
   "source": [
    "%%jinja2 \n",
    "# Jinja Cell Magics\n",
    "\n",
    "`%%jinja2` inserts data from the notebook into the template.  \n",
    "\n",
    "## An example of a list\n",
    "\n",
    "{% for key in data %}* {{key}} - __{{data[key]}}__\n",
    "{% endfor %}"
   ]
  },
  {
   "cell_type": "markdown",
   "metadata": {},
   "source": [
    "---"
   ]
  },
  {
   "cell_type": "code",
   "execution_count": 15,
   "metadata": {
    "collapsed": false
   },
   "outputs": [],
   "source": [
    "%%mistune -d\n",
    "## Mistune Cell Magics\n",
    "\n",
    "`%%mistune` uses a pure Python markdown parser.  For convenience, jinja templates can be used to \n",
    "tell us about the length of `data` is {{data.__len__()}}."
   ]
  },
  {
   "cell_type": "markdown",
   "metadata": {},
   "source": [
    "---"
   ]
  },
  {
   "cell_type": "markdown",
   "metadata": {},
   "source": [
    "# Development\n",
    "\n",
    "## Running the Build and Tests\n",
    "\n",
    "```bash\n",
    "pip install -r requirements-dev.txt\n",
    "python setup.py develop\n",
    "watchmedo tricks tricks.yaml\n",
    "```\n",
    "\n",
    "The `watchmedo` script will convert your notebooks to scripts and html files.  `py.test-ipynb` will test all notebooks matching `test-*.ipynb`.\n",
    "\n",
    "## Running the docs \n",
    "\n",
    "```bash\n",
    "jekyll serve docs -wit\n",
    "```\n",
    "\n",
    "Docs are hosted at `http://localhost:4000/magical-magic/`.\n"
   ]
  },
  {
   "cell_type": "markdown",
   "metadata": {},
   "source": [
    "## License\n",
    "`magical-magic` is released as free software under the [BSD 3-Clause license](https://github.com/tonyfast/magical-magic/blob/master/LICENSE)."
   ]
  }
 ],
 "metadata": {
  "anaconda-cloud": {},
  "kernelspec": {
   "display_name": "Python [Root]",
   "language": "python",
   "name": "Python [Root]"
  },
  "language_info": {
   "codemirror_mode": {
    "name": "ipython",
    "version": 3
   },
   "file_extension": ".py",
   "mimetype": "text/x-python",
   "name": "python",
   "nbconvert_exporter": "python",
   "pygments_lexer": "ipython3",
   "version": "3.5.2"
  }
 },
 "nbformat": 4,
 "nbformat_minor": 0
}

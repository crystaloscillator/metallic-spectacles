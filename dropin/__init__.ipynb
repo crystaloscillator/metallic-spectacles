{
 "cells": [
  {
   "cell_type": "code",
   "execution_count": 325,
   "metadata": {
    "collapsed": false
   },
   "outputs": [],
   "source": [
    "from dropin.pipeline import SimplePipeline\n",
    "from dropin.correlation import CorrelationModel\n",
    "from dropin.models import RavelPreProcessor\n",
    "\n",
    "RavelPreProcessor\n",
    "\n",
    "__version__ = \"0.0.1\"\n",
    "\n",
    "__all__ = [\n",
    "    'SimplePipeline', 'CorrelationModel', 'RavelPreProcesser',\n",
    "]"
   ]
  }
 ],
 "metadata": {
  "anaconda-cloud": {},
  "kernelspec": {
   "display_name": "Python [Root]",
   "language": "python",
   "name": "Python [Root]"
  },
  "language_info": {
   "codemirror_mode": {
    "name": "ipython",
    "version": 3
   },
   "file_extension": ".py",
   "mimetype": "text/x-python",
   "name": "python",
   "nbconvert_exporter": "python",
   "pygments_lexer": "ipython3",
   "version": "3.5.2"
  }
 },
 "nbformat": 4,
 "nbformat_minor": 0
}

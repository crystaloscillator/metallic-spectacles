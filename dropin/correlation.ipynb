{
 "cells": [
  {
   "cell_type": "code",
   "execution_count": 4,
   "metadata": {
    "collapsed": false
   },
   "outputs": [
    {
     "ename": "ImportError",
     "evalue": "No module named 'dropin'",
     "output_type": "error",
     "traceback": [
      "\u001b[0;31m---------------------------------------------------------------------------\u001b[0m",
      "\u001b[0;31mImportError\u001b[0m                               Traceback (most recent call last)",
      "\u001b[0;32m<ipython-input-4-22224dc85197>\u001b[0m in \u001b[0;36m<module>\u001b[0;34m()\u001b[0m\n\u001b[0;32m----> 1\u001b[0;31m \u001b[0;32mfrom\u001b[0m \u001b[0mdropin\u001b[0m\u001b[0;34m.\u001b[0m\u001b[0mpipeline\u001b[0m \u001b[0;32mimport\u001b[0m \u001b[0mSimplePipeline\u001b[0m\u001b[0;34m\u001b[0m\u001b[0m\n\u001b[0m\u001b[1;32m      2\u001b[0m \u001b[0;32mfrom\u001b[0m \u001b[0mwhatever\u001b[0m \u001b[0;32mimport\u001b[0m \u001b[0m_X\u001b[0m\u001b[0;34m\u001b[0m\u001b[0m\n\u001b[1;32m      3\u001b[0m \u001b[0;32mfrom\u001b[0m \u001b[0mtoolz\u001b[0m\u001b[0;34m.\u001b[0m\u001b[0mcurried\u001b[0m \u001b[0;32mimport\u001b[0m \u001b[0mfirst\u001b[0m\u001b[0;34m\u001b[0m\u001b[0m\n\u001b[1;32m      4\u001b[0m \u001b[0;32mfrom\u001b[0m \u001b[0msklearn\u001b[0m\u001b[0;34m.\u001b[0m\u001b[0mpreprocessing\u001b[0m \u001b[0;32mimport\u001b[0m \u001b[0mFunctionTransformer\u001b[0m\u001b[0;34m\u001b[0m\u001b[0m\n\u001b[1;32m      5\u001b[0m \u001b[0;34m\u001b[0m\u001b[0m\n",
      "\u001b[0;31mImportError\u001b[0m: No module named 'dropin'"
     ]
    }
   ],
   "source": [
    "from dropin.pipeline import SimplePipeline\n",
    "from whatever import _X\n",
    "from toolz.curried import first\n",
    "from sklearn.preprocessing import FunctionTransformer\n",
    "\n",
    "from pandas import np\n",
    "\n",
    "__version__ = \"0.0.1\"\n",
    "\n",
    "__all__ = ['normalized_correlation']"
   ]
  },
  {
   "cell_type": "code",
   "execution_count": 65,
   "metadata": {
    "collapsed": true
   },
   "outputs": [],
   "source": [
    "weiner_khinchin_auto_correlation = (\n",
    "    _X() | np.fft.fftn | np.abs | (lambda x: x**2) | np.fft.ifftn | np.real\n",
    ")[np.around](decimals=13)"
   ]
  },
  {
   "cell_type": "code",
   "execution_count": 193,
   "metadata": {
    "collapsed": false
   },
   "outputs": [],
   "source": [
    "def auto_correlation(im, **kwargs):\n",
    "    windowed = weiner_khinchin_auto_correlation.copy()\n",
    "    for i, token in enumerate(windowed._tokens):\n",
    "        if first(token) in (\n",
    "            np.fft.fftpack.fftn, np.fft.fftpack.ifftn,\n",
    "        ):\n",
    "            windowed._tokens[i][2] = kwargs\n",
    "    return windowed.value(im)           "
   ]
  },
  {
   "cell_type": "code",
   "execution_count": 2,
   "metadata": {
    "collapsed": true
   },
   "outputs": [],
   "source": [
    "def cross_correlation(X, Y, **kwargs):    \n",
    "    fft_based_cross_correlation = _X(\n",
    "        np.fft.fftn(X, **kwargs), np.fft.fftn(Y, **kwargs).conj()\n",
    "    )[np.multiply][np.fft.ifftn](**kwargs)[np.real][np.around](decimals=13)\n",
    "    return fft_based_cross_correlation.value()"
   ]
  },
  {
   "cell_type": "code",
   "execution_count": 3,
   "metadata": {
    "collapsed": false
   },
   "outputs": [],
   "source": [
    "def apply_denominator(X, s=(10,10,), cutoff=(20,20,)):\n",
    "    return np.apply_over_axes(\n",
    "        lambda x, y: np.divide(x, auto_correlation(np.ones(s), s=cutoff)),\n",
    "        X, axes=[0]\n",
    "    )"
   ]
  },
  {
   "cell_type": "code",
   "execution_count": 328,
   "metadata": {
    "collapsed": false
   },
   "outputs": [],
   "source": [
    "correlation_model = FunctionTransformer(\n",
    "    auto_correlation, validate=False, kw_args=dict(s=(20,20,))\n",
    ")\n",
    "\n",
    "normalization = FunctionTransformer(\n",
    "    apply_denominator, validate=False, kw_args={}\n",
    ")\n",
    "\n",
    "\n",
    "normalized_correlation = SimplePipeline([[correlation_model], [normalization]], n_jobs=1)"
   ]
  }
 ],
 "metadata": {
  "anaconda-cloud": {},
  "kernelspec": {
   "display_name": "Python [Root]",
   "language": "python",
   "name": "Python [Root]"
  },
  "language_info": {
   "codemirror_mode": {
    "name": "ipython",
    "version": 3
   },
   "file_extension": ".py",
   "mimetype": "text/x-python",
   "name": "python",
   "nbconvert_exporter": "python",
   "pygments_lexer": "ipython3",
   "version": "3.5.2"
  }
 },
 "nbformat": 4,
 "nbformat_minor": 0
}

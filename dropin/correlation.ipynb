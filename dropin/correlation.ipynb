{
 "cells": [
  {
   "cell_type": "code",
   "execution_count": 19,
   "metadata": {
    "collapsed": false
   },
   "outputs": [],
   "source": [
    "from dropin.pipeline import SimplePipeline\n",
    "from whatever import _X\n",
    "from toolz.curried import first\n",
    "from sklearn.preprocessing import FunctionTransformer\n",
    "\n",
    "import numpy as np\n",
    "\n",
    "__version__ = \"0.0.1\"\n",
    "\n",
    "__all__ = ['CorrelationModel']"
   ]
  },
  {
   "cell_type": "code",
   "execution_count": 20,
   "metadata": {
    "collapsed": true
   },
   "outputs": [],
   "source": [
    "weiner_khinchin_auto_correlation = (\n",
    "    _X() | np.fft.fftn | np.abs | (lambda x: x**2) | np.fft.ifftn | np.real\n",
    ")[np.around](decimals=13)"
   ]
  },
  {
   "cell_type": "code",
   "execution_count": 21,
   "metadata": {
    "collapsed": false
   },
   "outputs": [],
   "source": [
    "def auto_correlation(im, **kwargs):\n",
    "    windowed = weiner_khinchin_auto_correlation.copy()\n",
    "    for i, token in enumerate(windowed._tokens):\n",
    "        if first(token) in (\n",
    "            np.fft.fftpack.fftn, np.fft.fftpack.ifftn,\n",
    "        ):\n",
    "            windowed._tokens[i][2] = kwargs\n",
    "    return windowed.value(im)           "
   ]
  },
  {
   "cell_type": "code",
   "execution_count": 22,
   "metadata": {
    "collapsed": true
   },
   "outputs": [],
   "source": [
    "def cross_correlation(X, Y, **kwargs):    \n",
    "    fft_based_cross_correlation = _X(\n",
    "        np.fft.fftn(X, **kwargs), np.fft.fftn(Y, **kwargs).conj()\n",
    "    )[np.multiply][np.fft.ifftn](**kwargs)[np.real][np.around](decimals=13)\n",
    "    return fft_based_cross_correlation.value()"
   ]
  },
  {
   "cell_type": "code",
   "execution_count": 23,
   "metadata": {
    "collapsed": false
   },
   "outputs": [],
   "source": [
    "def apply_denominator(X, sz=(10,10,), s=(20,20,)):\n",
    "    return np.apply_over_axes(\n",
    "        lambda x, y: np.divide(x, auto_correlation(np.ones(sz), s=s)),\n",
    "        X, axes=[0]\n",
    "    )"
   ]
  },
  {
   "cell_type": "code",
   "execution_count": 30,
   "metadata": {
    "collapsed": false
   },
   "outputs": [],
   "source": [
    "def CorrelationModel(sz, **kwargs):\n",
    "    auto_correlation_model = FunctionTransformer(\n",
    "        auto_correlation, validate=False, kw_args={**kwargs, 'axes': _X(sz).len.add(1).range(1).list.value()}\n",
    "    )\n",
    "\n",
    "    normalization = FunctionTransformer(\n",
    "        apply_denominator, validate=False, kw_args={'sz': sz, **kwargs}\n",
    "    )\n",
    "\n",
    "\n",
    "    return SimplePipeline([\n",
    "    #         [FunctionTransformer(_X().eq(0).compose, validate=False)],\n",
    "            [auto_correlation_model], [normalization]\n",
    "        ], n_jobs=1)"
   ]
  },
  {
   "cell_type": "code",
   "execution_count": null,
   "metadata": {
    "collapsed": true
   },
   "outputs": [],
   "source": []
  }
 ],
 "metadata": {
  "anaconda-cloud": {},
  "kernelspec": {
   "display_name": "Python [Root]",
   "language": "python",
   "name": "Python [Root]"
  },
  "language_info": {
   "codemirror_mode": {
    "name": "ipython",
    "version": 3
   },
   "file_extension": ".py",
   "mimetype": "text/x-python",
   "name": "python",
   "nbconvert_exporter": "python",
   "pygments_lexer": "ipython3",
   "version": "3.5.2"
  }
 },
 "nbformat": 4,
 "nbformat_minor": 0
}

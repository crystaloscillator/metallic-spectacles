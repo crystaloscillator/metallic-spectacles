{
 "cells": [
  {
   "cell_type": "code",
   "execution_count": 1,
   "metadata": {
    "collapsed": false
   },
   "outputs": [],
   "source": [
    "from whatever import _X, callables\n",
    "from toolz.curried import identity\n",
    "from sklearn.base import ClassifierMixin, RegressorMixin\n",
    "from sklearn.pipeline import make_union, Pipeline\n",
    "from sklearn.ensemble import VotingClassifier\n",
    "__all__ = ['SimplePipeline']"
   ]
  },
  {
   "cell_type": "code",
   "execution_count": 2,
   "metadata": {
    "collapsed": false
   },
   "outputs": [],
   "source": [
    "class SimplePipeline(Pipeline):\n",
    "    \"\"\"Build a pipeline from a list.\"\"\"\n",
    "    def __init__(self, pipeline, n_jobs=4):\n",
    "        pipeline = list(pipeline)\n",
    "        \n",
    "        if _X(pipeline[-1]) * (\n",
    "            lambda x: isinstance(x, (\n",
    "                    RegressorMixin, ClassifierMixin,\n",
    "                ))\n",
    "        ) | all > identity:            \n",
    "            pipeline[-1] = VotingClassifier(\n",
    "                _X(pipeline[-1]) * [str, identity] > list,\n",
    "            )   \n",
    "            \n",
    "        pipeline = _X(pipeline) * callables.Dispatch([\n",
    "            [VotingClassifier, identity],\n",
    "        ], lambda m: make_union(*m).set_params(n_jobs=n_jobs)) > list\n",
    "        \n",
    "        self.pipeline = pipeline\n",
    "        self.n_jobs = n_jobs\n",
    "        super().__init__(\n",
    "            _X(pipeline) * [str, identity] > list\n",
    "        )\n",
    "        "
   ]
  },
  {
   "cell_type": "code",
   "execution_count": null,
   "metadata": {
    "collapsed": true
   },
   "outputs": [],
   "source": []
  }
 ],
 "metadata": {
  "anaconda-cloud": {},
  "kernelspec": {
   "display_name": "Python [Root]",
   "language": "python",
   "name": "Python [Root]"
  },
  "language_info": {
   "codemirror_mode": {
    "name": "ipython",
    "version": 3
   },
   "file_extension": ".py",
   "mimetype": "text/x-python",
   "name": "python",
   "nbconvert_exporter": "python",
   "pygments_lexer": "ipython3",
   "version": "3.5.2"
  }
 },
 "nbformat": 4,
 "nbformat_minor": 0
}
